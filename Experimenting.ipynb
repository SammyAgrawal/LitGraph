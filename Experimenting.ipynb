{
 "cells": [
  {
   "cell_type": "code",
   "execution_count": 2,
   "id": "20860649-3a12-4a33-9bac-236c31cdfa6c",
   "metadata": {},
   "outputs": [
    {
     "ename": "ModuleNotFoundError",
     "evalue": "No module named 'scholarly'",
     "output_type": "error",
     "traceback": [
      "\u001b[0;31m---------------------------------------------------------------------------\u001b[0m",
      "\u001b[0;31mModuleNotFoundError\u001b[0m                       Traceback (most recent call last)",
      "Cell \u001b[0;32mIn[2], line 2\u001b[0m\n\u001b[1;32m      1\u001b[0m \u001b[38;5;28;01mimport\u001b[39;00m \u001b[38;5;21;01mnetworkx\u001b[39;00m \u001b[38;5;28;01mas\u001b[39;00m \u001b[38;5;21;01mnx\u001b[39;00m\n\u001b[0;32m----> 2\u001b[0m \u001b[38;5;28;01mimport\u001b[39;00m \u001b[38;5;21;01mscholarly\u001b[39;00m\n",
      "\u001b[0;31mModuleNotFoundError\u001b[0m: No module named 'scholarly'"
     ]
    }
   ],
   "source": [
    "import networkx as nx\n",
    "import scholarly"
   ]
  },
  {
   "cell_type": "markdown",
   "id": "855344ea-0384-4ca5-98b6-90fac72df923",
   "metadata": {},
   "source": [
    "### Publication Graph Node"
   ]
  },
  {
   "cell_type": "code",
   "execution_count": 26,
   "id": "e2e22a41-a849-4dbf-b970-2a03e3ec6d37",
   "metadata": {},
   "outputs": [],
   "source": [
    "class Publication:\n",
    "    def __init__(self, title=None):\n",
    "        self.title = title\n",
    "        self.authors = []\n",
    "        self.citations = []\n",
    "        self.cited_by = []\n",
    "\n",
    "    def __str__(self):\n",
    "        return(str(self.title))\n",
    "\n",
    "    def __repr__(self):\n",
    "        return(str(self.title))"
   ]
  },
  {
   "cell_type": "code",
   "execution_count": 23,
   "id": "6cad9511-c8b1-44b9-90e5-4db7f36d9436",
   "metadata": {},
   "outputs": [
    {
     "data": {
      "text/plain": [
       "None"
      ]
     },
     "execution_count": 23,
     "metadata": {},
     "output_type": "execute_result"
    }
   ],
   "source": [
    "pub = Publication()\n",
    "pub.title = \"Towards Causal Representation Learning\" \n",
    "pub"
   ]
  },
  {
   "cell_type": "code",
   "execution_count": 24,
   "id": "1e714041-f43c-4581-9005-29b6bb0e5a51",
   "metadata": {},
   "outputs": [],
   "source": []
  },
  {
   "cell_type": "code",
   "execution_count": null,
   "id": "b6e413c1-0faa-46c3-8cf9-7334693f2a14",
   "metadata": {},
   "outputs": [],
   "source": []
  },
  {
   "cell_type": "code",
   "execution_count": null,
   "id": "8cd7c18b-52f6-433a-8c43-bda40682ec0e",
   "metadata": {},
   "outputs": [],
   "source": []
  },
  {
   "cell_type": "code",
   "execution_count": null,
   "id": "1177746a-950d-4853-8d99-0079c7faac05",
   "metadata": {},
   "outputs": [],
   "source": []
  },
  {
   "cell_type": "code",
   "execution_count": null,
   "id": "cb081819-aa61-44f9-b956-11028002be57",
   "metadata": {},
   "outputs": [],
   "source": []
  }
 ],
 "metadata": {
  "kernelspec": {
   "display_name": "Python 3 (ipykernel)",
   "language": "python",
   "name": "python3"
  },
  "language_info": {
   "codemirror_mode": {
    "name": "ipython",
    "version": 3
   },
   "file_extension": ".py",
   "mimetype": "text/x-python",
   "name": "python",
   "nbconvert_exporter": "python",
   "pygments_lexer": "ipython3",
   "version": "3.9.16"
  }
 },
 "nbformat": 4,
 "nbformat_minor": 5
}
